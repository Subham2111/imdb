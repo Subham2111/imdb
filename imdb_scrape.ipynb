{
 "cells": [
  {
   "cell_type": "markdown",
   "metadata": {},
   "source": [
    "# This program was to give a user higher rating movie from his movies folder and then delete the movie and give another highest rated movie and write the name of the deleted movie with rating in a file"
   ]
  },
  {
   "cell_type": "code",
   "execution_count": 94,
   "metadata": {},
   "outputs": [],
   "source": [
    "import requests\n",
    "from lxml import html\n",
    "import json\n",
    "import os\n",
    "import time"
   ]
  },
  {
   "cell_type": "code",
   "execution_count": 95,
   "metadata": {},
   "outputs": [],
   "source": [
    "movie_name=[]\n",
    "newpath = r'/home/subham/Documents/jupyter noteboooks ipynb files/movie'#path were movies are stored and their folder name is corresponding to their movie name\n",
    "dirs = os.listdir( newpath )\n",
    "for i in dirs:\n",
    "    movie_name.append(i)"
   ]
  },
  {
   "cell_type": "code",
   "execution_count": null,
   "metadata": {},
   "outputs": [],
   "source": [
    "url='http://www.omdbapi.com/?t='#omdb url\n",
    "api='&apikey=cce3646c'#api key\n",
    "s={}#empty dictionary taken to further update by updating movie name as key and rating as value\n",
    "for i in movie_name:\n",
    "    url1=url+i+api#full url with movie name\n",
    "    request=requests.get(url1)\n",
    "    status=request.status_code\n",
    "    if status==200:\n",
    "        content=request.content\n",
    "        a=json.loads(request.text)\n",
    "        rating=a['Ratings'][0]['Value']\n",
    "        #print(d)\n",
    "        s.update({i:rating})\n",
    "    else:\n",
    "        print('check the server')"
   ]
  },
  {
   "cell_type": "code",
   "execution_count": null,
   "metadata": {},
   "outputs": [],
   "source": [
    "max=0\n",
    "#finding the maximum rating movie from above dictionary\n",
    "for k,v in s.items():\n",
    "    if v>=str(max):\n",
    "        max=v\n",
    "        name=k\n",
    "print(name,max)\n",
    "newpath1=newpath+'/'+name\n",
    "os.chdir(newpath1)\n",
    "time.sleep(7200)\n",
    "os.chdir(r'/home/subham/Documents/jupyter noteboooks ipynb files')\n",
    "#creating a file in above path\n",
    "with open('movie_name.txt','a+') as f:\n",
    "        f.write(name+' '+max)\n",
    "        f.write('\\n')\n",
    "f.close()\n",
    "os.chdir(newpath)\n",
    "#os.rmdir(newpath1)\n",
    "import shutil\n",
    "shutil.rmtree(newpath1)#deleting the folder with movie name"
   ]
  }
 ],
 "metadata": {
  "kernelspec": {
   "display_name": "Python 3",
   "language": "python",
   "name": "python3"
  },
  "language_info": {
   "codemirror_mode": {
    "name": "ipython",
    "version": 3
   },
   "file_extension": ".py",
   "mimetype": "text/x-python",
   "name": "python",
   "nbconvert_exporter": "python",
   "pygments_lexer": "ipython3",
   "version": "3.5.2"
  }
 },
 "nbformat": 4,
 "nbformat_minor": 2
}
